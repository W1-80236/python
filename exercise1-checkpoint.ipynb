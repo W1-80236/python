{
 "cells": [
  {
   "cell_type": "code",
   "execution_count": 5,
   "id": "a1b0e090",
   "metadata": {},
   "outputs": [
    {
     "name": "stdout",
     "output_type": "stream",
     "text": [
      "Twinkle, twinkle, little star,\n",
      "\t How I wonder what you are! \n",
      "\t\t Up above the world so high,\n",
      "\t\t Like a diamond in the sky.\n",
      " Twinkle, twinkle, little star,\n",
      "\t How I wonder what you are\n"
     ]
    }
   ],
   "source": [
    "'''Q1.Write a Python program to print the following string in a specific format Twinkle, \n",
    "      twinkle, little star, How I wonder what you are! Up above the world so high,\n",
    "      Like a diamond in the sky.Twinkle, twinkle, little star, How I wonder what you are'''\n",
    "\n",
    "# expected output:\n",
    "\"\"\"Twinkle, twinkle, little star,\n",
    "\tHow I wonder what you are! \n",
    "\t\tUp above the world so high,   \t\t\n",
    "\t\tLike a diamond in the sky. \n",
    "Twinkle, twinkle, little star, \n",
    "\tHow I wonder what you are\"\"\"\n",
    "    \n",
    "    \n",
    "    \n",
    "print(\"\"\"Twinkle, twinkle, little star,\\n\\t How I wonder what you are! \\n\\t\\t Up above the world so high,\\n\\t\\t Like a diamond in the sky.\\n Twinkle, twinkle, little star,\\n\\t How I wonder what you are\"\"\")"
   ]
  },
  {
   "cell_type": "code",
   "execution_count": 7,
   "id": "3a3a0164",
   "metadata": {},
   "outputs": [
    {
     "name": "stdout",
     "output_type": "stream",
     "text": [
      "python version:\n",
      "3.9.7 (default, Sep 16 2021, 16:59:28) [MSC v.1916 64 bit (AMD64)]\n",
      "version information:\n",
      "sys.version_info(major=3, minor=9, micro=7, releaselevel='final', serial=0)\n"
     ]
    }
   ],
   "source": [
    "\"\"\"Q2. Write a Python program to find out what version of Python you are using.\"\"\"\n",
    "import sys\n",
    "print(\"python version:\")\n",
    "print(sys.version)\n",
    "\n",
    "print(\"version information:\")\n",
    "print(sys.version_info)"
   ]
  },
  {
   "cell_type": "code",
   "execution_count": 11,
   "id": "6efeb065",
   "metadata": {},
   "outputs": [
    {
     "name": "stdout",
     "output_type": "stream",
     "text": [
      "current_datetime is: 2023-05-24 14:19:37.239886\n",
      "2023-05-24 14:19:37\n"
     ]
    }
   ],
   "source": [
    "\"\"\"Q.3 Write a Python program to display the current date and time.\"\"\"\n",
    "import datetime\n",
    "cdt=datetime.datetime.now()\n",
    "print(\"current_datetime is:\",cdt)\n",
    "print (cdt.strftime(\"%Y-%m-%d %H:%M:%S\"))"
   ]
  },
  {
   "cell_type": "code",
   "execution_count": 13,
   "id": "e9f2fd27",
   "metadata": {},
   "outputs": [
    {
     "name": "stdout",
     "output_type": "stream",
     "text": [
      "enter the radious:5\n",
      "area of circle is: 78.53981633974483\n"
     ]
    }
   ],
   "source": [
    "\"\"\"Q4. Write a Python program that calculates the area of a circle based on the radius \n",
    "       entered by the user.\"\"\"\n",
    "from math import pi\n",
    "r=int(input(\"enter the radious:\"))\n",
    "#PI=3.14\n",
    "area=pi* r**2\n",
    "print(\"area of circle is:\",area)"
   ]
  },
  {
   "cell_type": "code",
   "execution_count": 17,
   "id": "32d77e9d",
   "metadata": {},
   "outputs": [
    {
     "name": "stdout",
     "output_type": "stream",
     "text": [
      "Enter Your First Name:payal\n",
      "Enter Your Last Name: deshmane\n",
      "deshmane payal\n"
     ]
    }
   ],
   "source": [
    "\"\"\"Q5. Write a Python program that accepts the user's first and last name and prints them \n",
    "       in reverse order with a space between them.\"\"\"\n",
    "\n",
    "fname=input(\"Enter Your First Name:\")\n",
    "lname=input(\"Enter Your Last Name: \")\n",
    "s1=print((lname+\" \"+fname))\n",
    "\n",
    "\n"
   ]
  },
  {
   "cell_type": "code",
   "execution_count": 46,
   "id": "4c386c96",
   "metadata": {},
   "outputs": [
    {
     "name": "stdout",
     "output_type": "stream",
     "text": [
      "Input some comma seprated numbers : 20,30,40,50\n",
      "List :  ['20', '30', '40', '50']\n"
     ]
    }
   ],
   "source": [
    "\"\"\"Q6. Write a Python program that accepts a sequence of comma-separated numbers \n",
    "       from the user and generates a list and a tuple of those numbers. Sample data : 3, 5, 7, 23\n",
    "       \n",
    "       Output :\n",
    "       List : ['3', ' 5', ' 7', ' 23']\n",
    "       Tuple : ('3', ' 5', ' 7', ' 23')\"\"\"\n",
    "\n",
    "values = input(\"Input some comma seprated numbers : \")\n",
    "l = values.split(\",\")\n",
    "print('List : ',l)\n",
    "\n",
    "\n",
    "\n"
   ]
  },
  {
   "cell_type": "code",
   "execution_count": 49,
   "id": "4087775c",
   "metadata": {},
   "outputs": [
    {
     "name": "stdout",
     "output_type": "stream",
     "text": [
      "Enter the filename with extension:abc.java\n",
      "java\n"
     ]
    }
   ],
   "source": [
    "\"\"\"Q.7 Write a Python program that accepts a filename from the user and prints the \n",
    "       extension of the file. Sample filename : abc.java\n",
    "       Output : java\"\"\"\n",
    "\n",
    "\n",
    "filename=input(\"Enter the filename with extension:\")\n",
    "s=filename.split('.')[-1]\n",
    "print(s)"
   ]
  },
  {
   "cell_type": "code",
   "execution_count": 50,
   "id": "7b9f024f",
   "metadata": {},
   "outputs": [
    {
     "name": "stdout",
     "output_type": "stream",
     "text": [
      "Red Black\n"
     ]
    }
   ],
   "source": [
    "\"\"\"Q.8 Write a Python program to display the first and last colors from the following list.\n",
    "       color_list = [\"Red\",\"Green\",\"White\" ,\"Black\"]\"\"\"\n",
    "\n",
    "\n",
    "color_list = [\"Red\",\"Green\",\"White\" ,\"Black\"]\n",
    "print(color_list[0],color_list[-1])\n",
    "\n"
   ]
  },
  {
   "cell_type": "code",
   "execution_count": 55,
   "id": "385b4a17",
   "metadata": {},
   "outputs": [
    {
     "name": "stdout",
     "output_type": "stream",
     "text": [
      "The examination will start from :11 12 2014\n"
     ]
    }
   ],
   "source": [
    "\"\"\"Q9.Write a Python program to display the examination schedule. \n",
    "      (extract the date from exam_st_date).exam_st_date = (11, 12, 2014)\n",
    "      Sample Output : The examination will start from : 11 / 12 / 2014\"\"\"\n",
    "\n",
    "exam_st_date = (11, 12, 2014)\n",
    "print('The examination will start from :%i %i %i' %exam_st_date)# %i used for format integers"
   ]
  },
  {
   "cell_type": "code",
   "execution_count": 56,
   "id": "2ab17752",
   "metadata": {},
   "outputs": [
    {
     "name": "stdout",
     "output_type": "stream",
     "text": [
      "Input an integer : 5\n",
      "615\n"
     ]
    }
   ],
   "source": [
    "\"\"\"Q.10 Write a Python program that accepts an integer (n) and computes the value of n+nn+nnn.\n",
    "        Sample value of n is 5  Expected Result : 615\"\"\"\n",
    "\n",
    "a = int(input(\"Input an integer : \"))\n",
    "n1 = int( \"%s\" % a )\n",
    "n2 = int( \"%s%s\" % (a,a) )\n",
    "n3 = int( \"%s%s%s\" % (a,a,a) )\n",
    "print (n1+n2+n3)\n"
   ]
  },
  {
   "cell_type": "code",
   "execution_count": null,
   "id": "835c5bd9",
   "metadata": {},
   "outputs": [],
   "source": []
  }
 ],
 "metadata": {
  "kernelspec": {
   "display_name": "Python 3 (ipykernel)",
   "language": "python",
   "name": "python3"
  },
  "language_info": {
   "codemirror_mode": {
    "name": "ipython",
    "version": 3
   },
   "file_extension": ".py",
   "mimetype": "text/x-python",
   "name": "python",
   "nbconvert_exporter": "python",
   "pygments_lexer": "ipython3",
   "version": "3.9.7"
  }
 },
 "nbformat": 4,
 "nbformat_minor": 5
}
